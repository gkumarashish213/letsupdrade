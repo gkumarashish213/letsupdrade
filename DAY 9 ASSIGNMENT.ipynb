{
 "cells": [
  {
   "cell_type": "markdown",
   "metadata": {},
   "source": [
    "# Make a small generator program for returning armstrong numbers in between 1-1000 in a generator object."
   ]
  },
  {
   "cell_type": "code",
   "execution_count": 1,
   "metadata": {},
   "outputs": [
    {
     "name": "stdout",
     "output_type": "stream",
     "text": [
      "Enter lower range: 1\n",
      "Enter upper range: 1000\n",
      "1\n",
      "2\n",
      "3\n",
      "4\n",
      "5\n",
      "6\n",
      "7\n",
      "8\n",
      "9\n",
      "153\n",
      "370\n",
      "371\n",
      "407\n"
     ]
    }
   ],
   "source": [
    "lower = int(input(\"Enter lower range: \"))\n",
    "upper = int(input(\"Enter upper range: \"))\n",
    "\n",
    "for num in range(lower, upper + 1):\n",
    "\n",
    "   order = len(str(num))\n",
    "\n",
    "   sum = 0\n",
    "\n",
    "   temp = num\n",
    "   while temp > 0:\n",
    "       digit = temp % 10\n",
    "       sum += digit ** order\n",
    "       temp //= 10\n",
    "\n",
    "   if num == sum:\n",
    "       print(num)"
   ]
  },
  {
   "cell_type": "code",
   "execution_count": null,
   "metadata": {},
   "outputs": [],
   "source": []
  }
 ],
 "metadata": {
  "kernelspec": {
   "display_name": "Python 3",
   "language": "python",
   "name": "python3"
  },
  "language_info": {
   "codemirror_mode": {
    "name": "ipython",
    "version": 3
   },
   "file_extension": ".py",
   "mimetype": "text/x-python",
   "name": "python",
   "nbconvert_exporter": "python",
   "pygments_lexer": "ipython3",
   "version": "3.7.4"
  }
 },
 "nbformat": 4,
 "nbformat_minor": 2
}
